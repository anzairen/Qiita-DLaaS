{
 "cells": [
  {
   "cell_type": "markdown",
   "metadata": {},
   "source": [
    "# How to generate JSON for WML Scoring Input\n",
    "Pls see https://stackoverflow.com/questions/49526227/deep-learning-how-can-i-test-the-mnist-tutorial-model-on-wml for details"
   ]
  },
  {
   "cell_type": "code",
   "execution_count": 2,
   "metadata": {},
   "outputs": [
    {
     "name": "stderr",
     "output_type": "stream",
     "text": [
      "C:\\ProgramData\\Miniconda3\\lib\\site-packages\\h5py\\__init__.py:36: FutureWarning: Conversion of the second argument of issubdtype from `float` to `np.floating` is deprecated. In future, it will be treated as `np.float64 == np.dtype(float).type`.\n",
      "  from ._conv import register_converters as _register_converters\n",
      "Using TensorFlow backend.\n"
     ]
    }
   ],
   "source": [
    "import json\n",
    "import numpy as np\n",
    "from keras.datasets import mnist\n",
    "(X, y), (X_test, y_test) = mnist.load_data()"
   ]
  },
  {
   "cell_type": "markdown",
   "metadata": {},
   "source": [
    "# Specify N th Image of MNIST dataset"
   ]
  },
  {
   "cell_type": "code",
   "execution_count": 3,
   "metadata": {},
   "outputs": [],
   "source": [
    "N = 3  # specify the number"
   ]
  },
  {
   "cell_type": "markdown",
   "metadata": {},
   "source": [
    "# Show Input Image"
   ]
  },
  {
   "cell_type": "code",
   "execution_count": 4,
   "metadata": {},
   "outputs": [
    {
     "data": {
      "image/png": "[encoded data removed]",
      "text/plain": [
       "<Figure size 432x288 with 1 Axes>"
      ]
     },
     "metadata": {},
     "output_type": "display_data"
    }
   ],
   "source": [
    "import matplotlib.pyplot as plt\n",
    "%matplotlib inline \n",
    "img = X_test[N]\n",
    "img = np.array(img, dtype='float')\n",
    "pixels = img.reshape((28, 28))\n",
    "plt.imshow(pixels, cmap='gray')\n",
    "plt.show()"
   ]
  },
  {
   "cell_type": "markdown",
   "metadata": {},
   "source": [
    "# Convert image to JSON format\n",
    "#### AND Copy Json and paste it to \"Enter input data\" field of \"test\" UI. "
   ]
  },
  {
   "cell_type": "code",
   "execution_count": 5,
   "metadata": {},
   "outputs": [
    {
     "name": "stdout",
     "output_type": "stream",
     "text": [
      "{\"values\": [[[[0.0], [0.0], [0.0], [0.0], [0.0], [0.0], [0.0], [0.0], [0.0], [0.0], [0.0], [0.0], [0.0], [0.0], [0.0], [0.0], [0.0], [0.0], [0.0], [0.0], [0.0], [0.0], [0.0], [0.0], [0.0], [0.0], [0.0], [0.0]], [[0.0], [0.0], [0.0], [0.0], [0.0], [0.0], [0.0], [0.0], [0.0], [0.0], [0.0], [0.0], [0.0], [0.0], [0.0], [0.0], [0.0], [0.0], [0.0], [0.0], [0.0], [0.0], [0.0], [0.0], [0.0], [0.0], [0.0], [0.0]], [[0.0], [0.0], [0.0], [0.0], [0.0], [0.0], [0.0], [0.0], [0.0], [0.0], [0.0], [0.0], [0.0], [0.0], [0.0], [0.0], [0.0], [0.0], [0.0], [0.0], [0.0], [0.0], [0.0], [0.0], [0.0], [0.0], [0.0], [0.0]], [[0.0], [0.0], [0.0], [0.0], [0.0], [0.0], [0.0], [0.0], [0.0], [0.0], [0.0], [0.0], [0.0], [0.0], [0.0], [0.0], [0.0], [0.0], [0.0], [0.0], [0.0], [0.0], [0.0], [0.0], [0.0], [0.0], [0.0], [0.0]], [[0.0], [0.0], [0.0], [0.0], [0.0], [0.0], [0.0], [0.0], [0.0], [0.0], [0.0], [0.0], [0.04313725605607033], [0.5882353186607361], [0.9921568632125854], [0.7921568751335144], [0.12156862765550613], [0.0], [0.0], [0.0], [0.0], [0.0], [0.0], [0.0], [0.0], [0.0], [0.0], [0.0]], [[0.0], [0.0], [0.0], [0.0], [0.0], [0.0], [0.0], [0.0], [0.0], [0.0], [0.0], [0.0], [0.14509804546833038], [0.9843137264251709], [0.9843137264251709], [0.9921568632125854], [0.41960784792900085], [0.0], [0.0], [0.0], [0.0], [0.0], [0.0], [0.0], [0.0], [0.0], [0.0], [0.0]], [[0.0], [0.0], [0.0], [0.0], [0.0], [0.0], [0.0], [0.0], [0.0], [0.0], [0.0], [0.08235294371843338], [0.772549033164978], [0.9843137264251709], [0.9843137264251709], [0.9921568632125854], [0.41960784792900085], [0.0], [0.0], [0.0], [0.0], [0.0], [0.0], [0.0], [0.0], [0.0], [0.0], [0.0]], [[0.0], [0.0], [0.0], [0.0], [0.0], [0.0], [0.0], [0.0], [0.0], [0.0], [0.4313725531101227], [0.7450980544090271], [0.9843137264251709], [0.9843137264251709], [0.9843137264251709], [0.9921568632125854], [0.6627451181411743], [0.4274509847164154], [0.24313725531101227], [0.0], [0.0], [0.0], [0.0], [0.0], [0.0], [0.0], [0.0], [0.0]], [[0.0], [0.0], [0.0], [0.0], [0.0], [0.0], [0.0], [0.0], [0.0], [0.0], [0.9921568632125854], [0.9843137264251709], [0.9843137264251709], [0.9843137264251709], [0.9843137264251709], [0.9921568632125854], [0.9843137264251709], [0.9843137264251709], [0.8627451062202454], [0.20000000298023224], [0.0], [0.0], [0.0], [0.0], [0.0], [0.0], [0.0], [0.0]], [[0.0], [0.0], [0.0], [0.0], [0.0], [0.0], [0.0], [0.0], [0.0], [0.7137255072593689], [1.0], [0.9921568632125854], [0.9921568632125854], [0.9921568632125854], [0.9921568632125854], [0.9176470637321472], [0.8705882430076599], [0.9921568632125854], [0.9921568632125854], [0.9921568632125854], [0.0], [0.0], [0.0], [0.0], [0.0], [0.0], [0.0], [0.0]], [[0.0], [0.0], [0.0], [0.0], [0.0], [0.0], [0.0], [0.0], [0.24705882370471954], [0.8666666746139526], [0.9921568632125854], [0.9843137264251709], [0.9843137264251709], [0.9843137264251709], [0.5764706134796143], [0.3019607961177826], [0.24313725531101227], [0.501960813999176], [0.9843137264251709], [0.9843137264251709], [0.4117647111415863], [0.0], [0.0], [0.0], [0.0], [0.0], [0.0], [0.0]], [[0.0], [0.0], [0.0], [0.0], [0.0], [0.0], [0.0], [0.125490203499794], [0.9058823585510254], [0.9843137264251709], [0.9921568632125854], [0.9843137264251709], [0.8627451062202454], [0.5372549295425415], [0.03921568766236305], [0.0], [0.0], [0.12156862765550613], [0.9019607901573181], [0.9843137264251709], [0.9529411792755127], [0.4431372582912445], [0.019607843831181526], [0.0], [0.0], [0.0], [0.0], [0.0]], [[0.0], [0.0], [0.0], [0.0], [0.0], [0.0], [0.0], [0.14509804546833038], [0.9843137264251709], [0.9843137264251709], [0.9921568632125854], [0.7372549176216125], [0.0784313753247261], [0.0], [0.0], [0.0], [0.0], [0.0], [0.4274509847164154], [0.9843137264251709], [0.9921568632125854], [0.9843137264251709], [0.13725490868091583], [0.0], [0.0], [0.0], [0.0], [0.0]], [[0.0], [0.0], [0.0], [0.0], [0.0], [0.0], [0.0], [0.14509804546833038], [0.9843137264251709], [0.9843137264251709], [0.7882353067398071], [0.11764705926179886], [0.0], [0.0], [0.0], [0.0], [0.0], [0.0], [0.12156862765550613], [0.7843137383460999], [0.9921568632125854], [0.9843137264251709], [0.13725490868091583], [0.0], [0.0], [0.0], [0.0], [0.0]], [[0.0], [0.0], [0.0], [0.0], [0.0], [0.0], [0.0], [0.14509804546833038], [0.9921568632125854], [0.9921568632125854], [0.0], [0.0], [0.0], [0.0], [0.0], [0.0], [0.0], [0.0], [0.125490203499794], [0.7921568751335144], [1.0], [0.9921568632125854], [0.6431372761726379], [0.0], [0.0], [0.0], [0.0], [0.0]], [[0.0], [0.0], [0.0], [0.0], [0.0], [0.0], [0.0], [0.5490196347236633], [0.9843137264251709], [0.9843137264251709], [0.0], [0.0], [0.0], [0.0], [0.0], [0.0], [0.0], [0.0], [0.4274509847164154], [0.9843137264251709], [0.9921568632125854], [0.9843137264251709], [0.13725490868091583], [0.0], [0.0], [0.0], [0.0], [0.0]], [[0.0], [0.0], [0.0], [0.0], [0.0], [0.0], [0.0], [0.8509804010391235], [0.9843137264251709], [0.9843137264251709], [0.0], [0.0], [0.0], [0.0], [0.0], [0.0], [0.08235294371843338], [0.24705882370471954], [0.9058823585510254], [0.9843137264251709], [0.9921568632125854], [0.9019607901573181], [0.11764705926179886], [0.0], [0.0], [0.0], [0.0], [0.0]], [[0.0], [0.0], [0.0], [0.0], [0.0], [0.0], [0.0], [0.8509804010391235], [0.9843137264251709], [0.9843137264251709], [0.0], [0.0], [0.0], [0.0], [0.0], [0.0], [0.5647059082984924], [0.9843137264251709], [0.9843137264251709], [0.9843137264251709], [0.8666666746139526], [0.239215686917305], [0.0], [0.0], [0.0], [0.0], [0.0], [0.0]], [[0.0], [0.0], [0.0], [0.0], [0.0], [0.0], [0.0], [0.8509804010391235], [0.9843137264251709], [0.9843137264251709], [0.0], [0.0], [0.0], [0.0], [0.0], [0.7137255072593689], [0.8666666746139526], [0.9843137264251709], [0.9843137264251709], [0.9843137264251709], [0.7058823704719543], [0.0], [0.0], [0.0], [0.0], [0.0], [0.0], [0.0]], [[0.0], [0.0], [0.0], [0.0], [0.0], [0.0], [0.0], [0.8549019694328308], [0.9921568632125854], [0.9921568632125854], [0.2862745225429535], [0.2862745225429535], [0.8941176533699036], [0.9921568632125854], [0.9921568632125854], [1.0], [0.9921568632125854], [0.9921568632125854], [0.9921568632125854], [0.9921568632125854], [0.0], [0.0], [0.0], [0.0], [0.0], [0.0], [0.0], [0.0]], [[0.0], [0.0], [0.0], [0.0], [0.0], [0.0], [0.0], [0.4431372582912445], [0.9843137264251709], [0.9843137264251709], [0.9921568632125854], [0.9843137264251709], [0.9843137264251709], [0.9843137264251709], [0.9843137264251709], [0.9921568632125854], [0.9843137264251709], [0.9843137264251709], [0.9843137264251709], [0.5764706134796143], [0.0], [0.0], [0.0], [0.0], [0.0], [0.0], [0.0], [0.0]], [[0.0], [0.0], [0.0], [0.0], [0.0], [0.0], [0.0], [0.12156862765550613], [0.9019607901573181], [0.9843137264251709], [0.9921568632125854], [0.9843137264251709], [0.9843137264251709], [0.9843137264251709], [0.9843137264251709], [0.9921568632125854], [0.9019607901573181], [0.7411764860153198], [0.13725490868091583], [0.03921568766236305], [0.0], [0.0], [0.0], [0.0], [0.0], [0.0], [0.0], [0.0]], [[0.0], [0.0], [0.0], [0.0], [0.0], [0.0], [0.0], [0.0], [0.24313725531101227], [0.5568627715110779], [0.9921568632125854], [0.9843137264251709], [0.9843137264251709], [0.9843137264251709], [0.9843137264251709], [0.9921568632125854], [0.41960784792900085], [0.0], [0.0], [0.0], [0.0], [0.0], [0.0], [0.0], [0.0], [0.0], [0.0], [0.0]], [[0.0], [0.0], [0.0], [0.0], [0.0], [0.0], [0.0], [0.0], [0.0], [0.0], [0.2823529541492462], [0.6823529601097107], [0.9843137264251709], [0.6784313917160034], [0.27843138575553894], [0.2823529541492462], [0.11764705926179886], [0.0], [0.0], [0.0], [0.0], [0.0], [0.0], [0.0], [0.0], [0.0], [0.0], [0.0]], [[0.0], [0.0], [0.0], [0.0], [0.0], [0.0], [0.0], [0.0], [0.0], [0.0], [0.0], [0.0], [0.0], [0.0], [0.0], [0.0], [0.0], [0.0], [0.0], [0.0], [0.0], [0.0], [0.0], [0.0], [0.0], [0.0], [0.0], [0.0]], [[0.0], [0.0], [0.0], [0.0], [0.0], [0.0], [0.0], [0.0], [0.0], [0.0], [0.0], [0.0], [0.0], [0.0], [0.0], [0.0], [0.0], [0.0], [0.0], [0.0], [0.0], [0.0], [0.0], [0.0], [0.0], [0.0], [0.0], [0.0]], [[0.0], [0.0], [0.0], [0.0], [0.0], [0.0], [0.0], [0.0], [0.0], [0.0], [0.0], [0.0], [0.0], [0.0], [0.0], [0.0], [0.0], [0.0], [0.0], [0.0], [0.0], [0.0], [0.0], [0.0], [0.0], [0.0], [0.0], [0.0]], [[0.0], [0.0], [0.0], [0.0], [0.0], [0.0], [0.0], [0.0], [0.0], [0.0], [0.0], [0.0], [0.0], [0.0], [0.0], [0.0], [0.0], [0.0], [0.0], [0.0], [0.0], [0.0], [0.0], [0.0], [0.0], [0.0], [0.0], [0.0]]]]}\n"
     ]
    }
   ],
   "source": [
    "score_payload_data = X_test.reshape(X_test.shape[0], X_test.shape[1], X_test.shape[2], 1)\n",
    "score_payload_data = score_payload_data.astype(\"float32\")/255\n",
    "score_payload_data = score_payload_data[N].tolist() ## Here we are choosing the Nth image in the list to predict\n",
    "scoring_payload = {\"values\": [score_payload_data]}\n",
    "\n",
    "# save to file\n",
    "with open('wml-input.json', 'w') as f:\n",
    "    json.dump(scoring_payload,f)\n",
    "# or print it directly    which ever will work.\n",
    "print(json.dumps(scoring_payload))    "
   ]
  },
  {
   "cell_type": "markdown",
   "metadata": {},
   "source": [
    "# or Call WML Scoring request from Python\n",
    "###### You MUST  Copy & Paste it from \"Code Snippets\" of \"Implementation\" tab of UI,  as \"credentials\" & \"requests.post\" URL differs in each env."
   ]
  },
  {
   "cell_type": "code",
   "execution_count": 6,
   "metadata": {},
   "outputs": [
    {
     "name": "stdout",
     "output_type": "stream",
     "text": [
      "{'fields': ['prediction'], 'values': [[0.9999867677688599, 6.174922795310067e-10, 0.0, 9.125209885496588e-07, 0.0, 0.0, 1.1732862731150817e-05, 1.7268935437186883e-07, 4.4984508917877974e-07, 8.695974292336802e-28]]}\n"
     ]
    }
   ],
   "source": [
    "import urllib3, requests, json\n",
    "\n",
    "# retrieve your wml_service_credentials_username, wml_service_credentials_password, and wml_service_credentials_url from the\n",
    "# Service credentials associated with your IBM Cloud Watson Machine Learning Service instance\n",
    "\n",
    "wml_credentials={\n",
    "\"url\": \"https://ibm-watson-ml.mybluemix.net\",\n",
    "\"username\": \"****\",\n",
    "\"password\": \"****\"\n",
    "}\n",
    "\n",
    "headers = urllib3.util.make_headers(basic_auth='{username}:{password}'.format(username=wml_credentials['username'], password=wml_credentials['password']))\n",
    "url = '{}/v3/identity/token'.format(wml_credentials['url'])\n",
    "response = requests.get(url, headers=headers)\n",
    "mltoken = json.loads(response.text).get('token')\n",
    "\n",
    "header = {'Content-Type': 'application/json', 'Authorization': 'Bearer ' + mltoken}\n",
    "\n",
    "# NOTE: manually define and pass the array(s) of values to be scored in the next line\n",
    "#payload_scoring = {\"fields\": [array_of_feature_columns], \"values\": [array_of_values_to_be_scored, another_array_of_values_to_be_scored]}\n",
    "payload_scoring = scoring_payload\n",
    "response_scoring = requests.post('https://ibm-watson-ml.mybluemix.net/v3/wml_instances/dacd782e-61c1-4112-b490-9a3273151741/published_models/1ab3391c-6c3f-44d5-b591-ad9ab722a3ac/deployments/d4d47ef8-e831-46a7-bd20-4bf1d425eda1/online', json=payload_scoring, headers=header)\n",
    "print(json.loads(response_scoring.text))\n",
    "\n",
    "#-------------\n",
    "dic1 = json.loads(response_scoring.text)\n",
    "list1 = dic1.get('values')[0]"
   ]
  },
  {
   "cell_type": "markdown",
   "metadata": {},
   "source": [
    "# print result( Confidence of each Number )"
   ]
  },
  {
   "cell_type": "code",
   "execution_count": 7,
   "metadata": {},
   "outputs": [
    {
     "name": "stdout",
     "output_type": "stream",
     "text": [
      "number              confidence\n"
     ]
    },
    {
     "data": {
      "text/plain": [
       "['0      ==>  0.9999867677688599',\n",
       " '1      ==>  6.174922795310067e-10',\n",
       " '2      ==>  0.0',\n",
       " '3      ==>  9.125209885496588e-07',\n",
       " '4      ==>  0.0',\n",
       " '5      ==>  0.0',\n",
       " '6      ==>  1.1732862731150817e-05',\n",
       " '7      ==>  1.7268935437186883e-07',\n",
       " '8      ==>  4.4984508917877974e-07',\n",
       " '9      ==>  8.695974292336802e-28']"
      ]
     },
     "execution_count": 7,
     "metadata": {},
     "output_type": "execute_result"
    }
   ],
   "source": [
    "print(\"number              confidence\")\n",
    "[\"{0}      ==>  {1}\".format(i , v) for i, v in enumerate(list1)]"
   ]
  },
  {
   "cell_type": "code",
   "execution_count": 8,
   "metadata": {},
   "outputs": [
    {
     "data": {
      "text/markdown": [
       "# Watson says: the image is 0.      confidence:(0.9999867677688599)"
      ],
      "text/plain": [
       "<IPython.core.display.Markdown object>"
      ]
     },
     "metadata": {},
     "output_type": "display_data"
    }
   ],
   "source": [
    "from IPython.display import Markdown, display\n",
    "def printmd(string):\n",
    "    display(Markdown(string))\n",
    "printmd(f\"# Watson says: the image is {list1.index(max(list1))}.      confidence:({max(list1)})\") # from Python 3.6 - f\"xxx{hoge}\""
   ]
  },
  {
   "cell_type": "code",
   "execution_count": null,
   "metadata": {},
   "outputs": [],
   "source": []
  },
  {
   "cell_type": "code",
   "execution_count": null,
   "metadata": {},
   "outputs": [],
   "source": []
  }
 ],
 "metadata": {
  "kernelspec": {
   "display_name": "Python 3",
   "language": "python",
   "name": "python3"
  },
  "language_info": {
   "codemirror_mode": {
    "name": "ipython",
    "version": 3
   },
   "file_extension": ".py",
   "mimetype": "text/x-python",
   "name": "python",
   "nbconvert_exporter": "python",
   "pygments_lexer": "ipython3",
   "version": "3.6.4"
  }
 },
 "nbformat": 4,
 "nbformat_minor": 2
}
